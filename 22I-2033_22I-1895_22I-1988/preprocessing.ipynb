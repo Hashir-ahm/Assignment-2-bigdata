{
 "cells": [
  {
   "cell_type": "code",
   "execution_count": 22,
   "id": "76750abe-ad76-40ae-b02b-71034cb317ad",
   "metadata": {},
   "outputs": [],
   "source": [
    "import csv\n",
    "import pandas as pd\n",
    "import re \n",
    "\n",
    "dataframe = pd.read_csv(\"enwiki-20170820.csv\",nrows = 10 ) \n",
    "# Now you have the first 100 lines of the CSV data stored in the DataFrame 'df'"
   ]
  },
  {
   "cell_type": "code",
   "execution_count": 23,
   "id": "9ecb1889-ed1b-434c-8eba-9c6849a7b780",
   "metadata": {},
   "outputs": [
    {
     "data": {
      "text/html": [
       "<div>\n",
       "<style scoped>\n",
       "    .dataframe tbody tr th:only-of-type {\n",
       "        vertical-align: middle;\n",
       "    }\n",
       "\n",
       "    .dataframe tbody tr th {\n",
       "        vertical-align: top;\n",
       "    }\n",
       "\n",
       "    .dataframe thead th {\n",
       "        text-align: right;\n",
       "    }\n",
       "</style>\n",
       "<table border=\"1\" class=\"dataframe\">\n",
       "  <thead>\n",
       "    <tr style=\"text-align: right;\">\n",
       "      <th></th>\n",
       "      <th>ARTICLE_ID</th>\n",
       "      <th>TITLE</th>\n",
       "      <th>SECTION_TITLE</th>\n",
       "      <th>SECTION_TEXT</th>\n",
       "    </tr>\n",
       "  </thead>\n",
       "  <tbody>\n",
       "    <tr>\n",
       "      <th>0</th>\n",
       "      <td>0</td>\n",
       "      <td>Anarchism</td>\n",
       "      <td>Introduction</td>\n",
       "      <td>\\n\\n\\n\\n\\n\\n'''Anarchism''' is a political phi...</td>\n",
       "    </tr>\n",
       "    <tr>\n",
       "      <th>1</th>\n",
       "      <td>0</td>\n",
       "      <td>Anarchism</td>\n",
       "      <td>Etymology and terminology</td>\n",
       "      <td>\\n\\nThe term ''anarchism'' is a compound word ...</td>\n",
       "    </tr>\n",
       "    <tr>\n",
       "      <th>2</th>\n",
       "      <td>0</td>\n",
       "      <td>Anarchism</td>\n",
       "      <td>History</td>\n",
       "      <td>\\n\\n===Origins===\\nWoodcut from a Diggers docu...</td>\n",
       "    </tr>\n",
       "    <tr>\n",
       "      <th>3</th>\n",
       "      <td>0</td>\n",
       "      <td>Anarchism</td>\n",
       "      <td>Anarchist schools of thought</td>\n",
       "      <td>\\nPortrait of philosopher Pierre-Joseph Proudh...</td>\n",
       "    </tr>\n",
       "    <tr>\n",
       "      <th>4</th>\n",
       "      <td>0</td>\n",
       "      <td>Anarchism</td>\n",
       "      <td>Internal issues and debates</td>\n",
       "      <td>\\nconsistent with anarchist values is a contro...</td>\n",
       "    </tr>\n",
       "  </tbody>\n",
       "</table>\n",
       "</div>"
      ],
      "text/plain": [
       "   ARTICLE_ID      TITLE                 SECTION_TITLE  \\\n",
       "0           0  Anarchism                  Introduction   \n",
       "1           0  Anarchism     Etymology and terminology   \n",
       "2           0  Anarchism                       History   \n",
       "3           0  Anarchism  Anarchist schools of thought   \n",
       "4           0  Anarchism   Internal issues and debates   \n",
       "\n",
       "                                        SECTION_TEXT  \n",
       "0  \\n\\n\\n\\n\\n\\n'''Anarchism''' is a political phi...  \n",
       "1  \\n\\nThe term ''anarchism'' is a compound word ...  \n",
       "2  \\n\\n===Origins===\\nWoodcut from a Diggers docu...  \n",
       "3  \\nPortrait of philosopher Pierre-Joseph Proudh...  \n",
       "4  \\nconsistent with anarchist values is a contro...  "
      ]
     },
     "execution_count": 23,
     "metadata": {},
     "output_type": "execute_result"
    }
   ],
   "source": [
    "dataframe.head()"
   ]
  },
  {
   "cell_type": "code",
   "execution_count": 24,
   "id": "f43e5079-d256-4e56-9657-9cdd8d111aa5",
   "metadata": {},
   "outputs": [],
   "source": [
    "# Drop 'ARTICLE_ID' column\n",
    "dataframe.drop('ARTICLE_ID', axis=1, inplace=True)\n",
    "\n",
    "# Drop 'TITLE' column\n",
    "dataframe.drop('TITLE', axis=1, inplace=True)\n",
    "\n",
    "# Drop 'SECTION_TITLE' column\n",
    "dataframe.drop('SECTION_TITLE', axis=1, inplace=True)\n"
   ]
  },
  {
   "cell_type": "code",
   "execution_count": 25,
   "id": "eefeb43e-a336-4a78-8ec3-236e8e2cdca8",
   "metadata": {},
   "outputs": [],
   "source": [
    "dataframe['SECTION_TEXT'].fillna('', inplace=True)"
   ]
  },
  {
   "cell_type": "code",
   "execution_count": 30,
   "id": "573b2cee-ca25-474e-aefd-ab768a74fcd2",
   "metadata": {},
   "outputs": [],
   "source": [
    "#  a lambda function to process text\n",
    "process_text_lambda = lambda text: re.sub(r'[^a-zA-Z\\s]', '', str(text).lower().strip())"
   ]
  },
  {
   "cell_type": "code",
   "execution_count": 27,
   "id": "a660edca-f6b1-41de-964e-13215b121efa",
   "metadata": {},
   "outputs": [],
   "source": [
    "dataframe['SECTION_TEXT'] = dataframe['SECTION_TEXT'].apply(process_text_lambda)"
   ]
  },
  {
   "cell_type": "code",
   "execution_count": 28,
   "id": "574a571d-0a53-4ab5-9f88-41ff573ac992",
   "metadata": {},
   "outputs": [
    {
     "data": {
      "text/html": [
       "<div>\n",
       "<style scoped>\n",
       "    .dataframe tbody tr th:only-of-type {\n",
       "        vertical-align: middle;\n",
       "    }\n",
       "\n",
       "    .dataframe tbody tr th {\n",
       "        vertical-align: top;\n",
       "    }\n",
       "\n",
       "    .dataframe thead th {\n",
       "        text-align: right;\n",
       "    }\n",
       "</style>\n",
       "<table border=\"1\" class=\"dataframe\">\n",
       "  <thead>\n",
       "    <tr style=\"text-align: right;\">\n",
       "      <th></th>\n",
       "      <th>SECTION_TEXT</th>\n",
       "    </tr>\n",
       "  </thead>\n",
       "  <tbody>\n",
       "    <tr>\n",
       "      <th>0</th>\n",
       "      <td>anarchism is a political philosophy that advoc...</td>\n",
       "    </tr>\n",
       "    <tr>\n",
       "      <th>1</th>\n",
       "      <td>the term anarchism is a compound word composed...</td>\n",
       "    </tr>\n",
       "    <tr>\n",
       "      <th>2</th>\n",
       "      <td>origins\\nwoodcut from a diggers document by wi...</td>\n",
       "    </tr>\n",
       "    <tr>\n",
       "      <th>3</th>\n",
       "      <td>portrait of philosopher pierrejoseph proudhon ...</td>\n",
       "    </tr>\n",
       "    <tr>\n",
       "      <th>4</th>\n",
       "      <td>consistent with anarchist values is a controve...</td>\n",
       "    </tr>\n",
       "  </tbody>\n",
       "</table>\n",
       "</div>"
      ],
      "text/plain": [
       "                                        SECTION_TEXT\n",
       "0  anarchism is a political philosophy that advoc...\n",
       "1  the term anarchism is a compound word composed...\n",
       "2  origins\\nwoodcut from a diggers document by wi...\n",
       "3  portrait of philosopher pierrejoseph proudhon ...\n",
       "4  consistent with anarchist values is a controve..."
      ]
     },
     "execution_count": 28,
     "metadata": {},
     "output_type": "execute_result"
    }
   ],
   "source": [
    "dataframe.head()"
   ]
  },
  {
   "cell_type": "code",
   "execution_count": 29,
   "id": "8482c3b4-f6c5-4197-ae63-c4eeccce110f",
   "metadata": {},
   "outputs": [],
   "source": [
    "\n",
    "dataframe.to_csv(\"input.txt\", index=False)"
   ]
  }
 ],
 "metadata": {
  "kernelspec": {
   "display_name": "Python 3 (ipykernel)",
   "language": "python",
   "name": "python3"
  },
  "language_info": {
   "codemirror_mode": {
    "name": "ipython",
    "version": 3
   },
   "file_extension": ".py",
   "mimetype": "text/x-python",
   "name": "python",
   "nbconvert_exporter": "python",
   "pygments_lexer": "ipython3",
   "version": "3.11.7"
  }
 },
 "nbformat": 4,
 "nbformat_minor": 5
}
